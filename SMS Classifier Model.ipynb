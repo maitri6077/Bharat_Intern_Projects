{
 "cells": [
  {
   "cell_type": "markdown",
   "id": "2ed56888",
   "metadata": {},
   "source": [
    "# SMS Classifier Model "
   ]
  },
  {
   "cell_type": "code",
   "execution_count": 1,
   "id": "fa9e59e9",
   "metadata": {},
   "outputs": [],
   "source": [
    "import pandas as pd\n",
    "import numpy as np\n",
    "import string\n",
    "import re"
   ]
  },
  {
   "cell_type": "code",
   "execution_count": 2,
   "id": "37512e64",
   "metadata": {},
   "outputs": [],
   "source": [
    "# Load the dataset\n",
    "data = pd.read_csv('spam.csv', encoding='latin-1')\n",
    "data = data[['v1', 'v2']]  # Select only the label and text columns\n",
    "data.columns = ['label', 'text']"
   ]
  },
  {
   "cell_type": "code",
   "execution_count": 3,
   "id": "de786fd8",
   "metadata": {},
   "outputs": [],
   "source": [
    "# Preprocessing\n",
    "stop_words = set([\n",
    "    \"i\", \"me\", \"my\", \"myself\", \"we\", \"our\", \"ours\", \"ourselves\", \"you\", \"your\", \"yours\", \"yourself\", \"yourselves\",\n",
    "    \"he\", \"him\", \"his\", \"himself\", \"she\", \"her\", \"hers\", \"herself\", \"it\", \"its\", \"itself\", \"they\", \"them\", \"their\",\n",
    "    \"theirs\", \"themselves\", \"what\", \"which\", \"who\", \"whom\", \"this\", \"that\", \"these\", \"those\", \"am\", \"is\", \"are\", \"was\",\n",
    "    \"were\", \"be\", \"been\", \"being\", \"have\", \"has\", \"had\", \"having\", \"do\", \"does\", \"did\", \"doing\", \"a\", \"an\", \"the\", \"and\",\n",
    "    \"but\", \"if\", \"or\", \"because\", \"as\", \"until\", \"while\", \"of\", \"at\", \"by\", \"for\", \"with\", \"about\", \"against\", \"between\",\n",
    "    \"into\", \"through\", \"during\", \"before\", \"after\", \"above\", \"below\", \"to\", \"from\", \"up\", \"down\", \"in\", \"out\", \"on\", \"off\",\n",
    "    \"over\", \"under\", \"again\", \"further\", \"then\", \"once\", \"here\", \"there\", \"when\", \"where\", \"why\", \"how\", \"all\", \"any\",\n",
    "    \"both\", \"each\", \"few\", \"more\", \"most\", \"other\", \"some\", \"such\", \"no\", \"nor\", \"not\", \"only\", \"own\", \"same\", \"so\",\n",
    "    \"than\", \"too\", \"very\", \"s\", \"t\", \"can\", \"will\", \"just\", \"don\", \"should\", \"now\"])"
   ]
  },
  {
   "cell_type": "code",
   "execution_count": 4,
   "id": "3ea1de6d",
   "metadata": {},
   "outputs": [],
   "source": [
    "def preprocess_text(text):\n",
    "    text = text.lower()  # Convert text to lowercase\n",
    "    text = re.sub(r'\\b\\d+\\b', '', text)  # Remove numbers\n",
    "    text = text.translate(str.maketrans('', '', string.punctuation))  # Remove punctuation\n",
    "    tokens = text.split()  # Tokenization\n",
    "    filtered_tokens = [word for word in tokens if word not in stop_words]  # Remove stop words\n",
    "    processed_text = ' '.join(filtered_tokens)  # Reconstruct the text\n",
    "    return processed_text\n",
    "\n",
    "data['text'] = data['text'].apply(preprocess_text)"
   ]
  },
  {
   "cell_type": "code",
   "execution_count": 5,
   "id": "c1884576",
   "metadata": {},
   "outputs": [],
   "source": [
    "# Split the data into train and test sets\n",
    "train_size = int(0.8 * len(data))\n",
    "train_data = data[:train_size]\n",
    "test_data = data[train_size:]"
   ]
  },
  {
   "cell_type": "code",
   "execution_count": 6,
   "id": "ed173a97",
   "metadata": {},
   "outputs": [],
   "source": [
    "# Train the classifier\n",
    "word_counts_spam = {}\n",
    "word_counts_ham = {}\n",
    "\n",
    "for index, row in train_data.iterrows():\n",
    "    words = row['text'].split()\n",
    "    for word in words:\n",
    "        if row['label'] == 'spam':\n",
    "            word_counts_spam[word] = word_counts_spam.get(word, 0) + 1\n",
    "        else:\n",
    "            word_counts_ham[word] = word_counts_ham.get(word, 0) + 1\n",
    "\n",
    "spam_probability = len(train_data[train_data['label'] == 'spam']) / len(train_data)"
   ]
  },
  {
   "cell_type": "code",
   "execution_count": 7,
   "id": "7bbf0d45",
   "metadata": {},
   "outputs": [],
   "source": [
    "# Predictions\n",
    "def predict(message):\n",
    "    words = message.split()\n",
    "    spam_score = 0\n",
    "    ham_score = 0\n",
    "    for word in words:\n",
    "        spam_score += np.log((word_counts_spam.get(word, 0) + 1) / (len(word_counts_spam) + len(word_counts_ham)))\n",
    "        ham_score += np.log((word_counts_ham.get(word, 0) + 1) / (len(word_counts_spam) + len(word_counts_ham)))\n",
    "    spam_score += np.log(spam_probability)\n",
    "    ham_score += np.log(1 - spam_probability)\n",
    "    return 'spam' if spam_score > ham_score else 'ham'"
   ]
  },
  {
   "cell_type": "code",
   "execution_count": 8,
   "id": "4f09bfff",
   "metadata": {},
   "outputs": [],
   "source": [
    "# Evaluate the model\n",
    "y_true = test_data['label'].tolist()\n",
    "y_pred = [predict(text) for text in test_data['text'].tolist()]"
   ]
  },
  {
   "cell_type": "code",
   "execution_count": 9,
   "id": "f0a520d1",
   "metadata": {
    "scrolled": true
   },
   "outputs": [
    {
     "name": "stdout",
     "output_type": "stream",
     "text": [
      "Accuracy: 0.9668161434977578\n"
     ]
    }
   ],
   "source": [
    "# Calculate accuracy\n",
    "accuracy = sum(1 for true, pred in zip(y_true, y_pred) if true == pred) / len(y_true)\n",
    "print(\"Accuracy:\", accuracy)"
   ]
  }
 ],
 "metadata": {
  "kernelspec": {
   "display_name": "Python 3 (ipykernel)",
   "language": "python",
   "name": "python3"
  },
  "language_info": {
   "codemirror_mode": {
    "name": "ipython",
    "version": 3
   },
   "file_extension": ".py",
   "mimetype": "text/x-python",
   "name": "python",
   "nbconvert_exporter": "python",
   "pygments_lexer": "ipython3",
   "version": "3.9.7"
  }
 },
 "nbformat": 4,
 "nbformat_minor": 5
}
